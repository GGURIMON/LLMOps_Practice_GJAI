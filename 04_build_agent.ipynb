{
 "cells": [
  {
   "cell_type": "code",
   "execution_count": 1,
   "metadata": {},
   "outputs": [],
   "source": [
    "from langchain_community.tools.tavily_search import TavilySearchResults"
   ]
  },
  {
   "cell_type": "code",
   "execution_count": 2,
   "metadata": {},
   "outputs": [],
   "source": [
    "import getpass\n",
    "import os\n",
    "\n",
    "os.environ[\"LANGCHAIN_TRACING_V2\"] = \"true\"\n",
    "os.environ[\"LANGCHAIN_API_KEY\"] = \"...\"  # API 키 입력\n",
    "os.environ[\"AWS_DEFAULT_REGION\"] = \"us-east-1\" # Bedrock 지원하는 리전 입력\n",
    "\n",
    "# Tavily API 키 설정\n",
    "os.environ[\"TAVILY_API_KEY\"] = \"...\"\n",
    "os.environ[\"DABOM_API_KEY\"] = \"...\""
   ]
  },
  {
   "cell_type": "code",
   "execution_count": 3,
   "metadata": {},
   "outputs": [
    {
     "name": "stdout",
     "output_type": "stream",
     "text": [
      "Requirement already satisfied: dabom-langchain in ./.venv/lib/python3.10/site-packages (0.1.3)\n",
      "Requirement already satisfied: langchain in ./.venv/lib/python3.10/site-packages (from dabom-langchain) (0.3.1)\n",
      "Requirement already satisfied: aiohttp in ./.venv/lib/python3.10/site-packages (from dabom-langchain) (3.10.8)\n",
      "Requirement already satisfied: aiohappyeyeballs>=2.3.0 in ./.venv/lib/python3.10/site-packages (from aiohttp->dabom-langchain) (2.4.3)\n",
      "Requirement already satisfied: aiosignal>=1.1.2 in ./.venv/lib/python3.10/site-packages (from aiohttp->dabom-langchain) (1.3.1)\n",
      "Requirement already satisfied: attrs>=17.3.0 in ./.venv/lib/python3.10/site-packages (from aiohttp->dabom-langchain) (24.2.0)\n",
      "Requirement already satisfied: frozenlist>=1.1.1 in ./.venv/lib/python3.10/site-packages (from aiohttp->dabom-langchain) (1.4.1)\n",
      "Requirement already satisfied: multidict<7.0,>=4.5 in ./.venv/lib/python3.10/site-packages (from aiohttp->dabom-langchain) (6.1.0)\n",
      "Requirement already satisfied: yarl<2.0,>=1.12.0 in ./.venv/lib/python3.10/site-packages (from aiohttp->dabom-langchain) (1.13.1)\n",
      "Requirement already satisfied: async-timeout<5.0,>=4.0 in ./.venv/lib/python3.10/site-packages (from aiohttp->dabom-langchain) (4.0.3)\n",
      "Requirement already satisfied: PyYAML>=5.3 in ./.venv/lib/python3.10/site-packages (from langchain->dabom-langchain) (6.0.2)\n",
      "Requirement already satisfied: SQLAlchemy<3,>=1.4 in ./.venv/lib/python3.10/site-packages (from langchain->dabom-langchain) (2.0.35)\n",
      "Requirement already satisfied: langchain-core<0.4.0,>=0.3.6 in ./.venv/lib/python3.10/site-packages (from langchain->dabom-langchain) (0.3.7)\n",
      "Requirement already satisfied: langchain-text-splitters<0.4.0,>=0.3.0 in ./.venv/lib/python3.10/site-packages (from langchain->dabom-langchain) (0.3.0)\n",
      "Requirement already satisfied: langsmith<0.2.0,>=0.1.17 in ./.venv/lib/python3.10/site-packages (from langchain->dabom-langchain) (0.1.129)\n",
      "Requirement already satisfied: numpy<2,>=1 in ./.venv/lib/python3.10/site-packages (from langchain->dabom-langchain) (1.26.4)\n",
      "Requirement already satisfied: pydantic<3.0.0,>=2.7.4 in ./.venv/lib/python3.10/site-packages (from langchain->dabom-langchain) (2.9.2)\n",
      "Requirement already satisfied: requests<3,>=2 in ./.venv/lib/python3.10/site-packages (from langchain->dabom-langchain) (2.32.3)\n",
      "Requirement already satisfied: tenacity!=8.4.0,<9.0.0,>=8.1.0 in ./.venv/lib/python3.10/site-packages (from langchain->dabom-langchain) (8.5.0)\n",
      "Requirement already satisfied: jsonpatch<2.0,>=1.33 in ./.venv/lib/python3.10/site-packages (from langchain-core<0.4.0,>=0.3.6->langchain->dabom-langchain) (1.33)\n",
      "Requirement already satisfied: packaging<25,>=23.2 in ./.venv/lib/python3.10/site-packages (from langchain-core<0.4.0,>=0.3.6->langchain->dabom-langchain) (24.1)\n",
      "Requirement already satisfied: typing-extensions>=4.7 in ./.venv/lib/python3.10/site-packages (from langchain-core<0.4.0,>=0.3.6->langchain->dabom-langchain) (4.12.2)\n",
      "Requirement already satisfied: httpx<1,>=0.23.0 in ./.venv/lib/python3.10/site-packages (from langsmith<0.2.0,>=0.1.17->langchain->dabom-langchain) (0.27.2)\n",
      "Requirement already satisfied: orjson<4.0.0,>=3.9.14 in ./.venv/lib/python3.10/site-packages (from langsmith<0.2.0,>=0.1.17->langchain->dabom-langchain) (3.10.7)\n",
      "Requirement already satisfied: annotated-types>=0.6.0 in ./.venv/lib/python3.10/site-packages (from pydantic<3.0.0,>=2.7.4->langchain->dabom-langchain) (0.7.0)\n",
      "Requirement already satisfied: pydantic-core==2.23.4 in ./.venv/lib/python3.10/site-packages (from pydantic<3.0.0,>=2.7.4->langchain->dabom-langchain) (2.23.4)\n",
      "Requirement already satisfied: charset-normalizer<4,>=2 in ./.venv/lib/python3.10/site-packages (from requests<3,>=2->langchain->dabom-langchain) (3.3.2)\n",
      "Requirement already satisfied: idna<4,>=2.5 in ./.venv/lib/python3.10/site-packages (from requests<3,>=2->langchain->dabom-langchain) (3.10)\n",
      "Requirement already satisfied: urllib3<3,>=1.21.1 in ./.venv/lib/python3.10/site-packages (from requests<3,>=2->langchain->dabom-langchain) (2.2.3)\n",
      "Requirement already satisfied: certifi>=2017.4.17 in ./.venv/lib/python3.10/site-packages (from requests<3,>=2->langchain->dabom-langchain) (2024.8.30)\n",
      "Requirement already satisfied: anyio in ./.venv/lib/python3.10/site-packages (from httpx<1,>=0.23.0->langsmith<0.2.0,>=0.1.17->langchain->dabom-langchain) (4.6.0)\n",
      "Requirement already satisfied: httpcore==1.* in ./.venv/lib/python3.10/site-packages (from httpx<1,>=0.23.0->langsmith<0.2.0,>=0.1.17->langchain->dabom-langchain) (1.0.6)\n",
      "Requirement already satisfied: sniffio in ./.venv/lib/python3.10/site-packages (from httpx<1,>=0.23.0->langsmith<0.2.0,>=0.1.17->langchain->dabom-langchain) (1.3.1)\n",
      "Requirement already satisfied: h11<0.15,>=0.13 in ./.venv/lib/python3.10/site-packages (from httpcore==1.*->httpx<1,>=0.23.0->langsmith<0.2.0,>=0.1.17->langchain->dabom-langchain) (0.14.0)\n",
      "Requirement already satisfied: jsonpointer>=1.9 in ./.venv/lib/python3.10/site-packages (from jsonpatch<2.0,>=1.33->langchain-core<0.4.0,>=0.3.6->langchain->dabom-langchain) (3.0.0)\n",
      "Requirement already satisfied: exceptiongroup>=1.0.2 in ./.venv/lib/python3.10/site-packages (from anyio->httpx<1,>=0.23.0->langsmith<0.2.0,>=0.1.17->langchain->dabom-langchain) (1.2.2)\n"
     ]
    }
   ],
   "source": [
    "!pip install dabom-langchain"
   ]
  },
  {
   "cell_type": "code",
   "execution_count": 5,
   "metadata": {},
   "outputs": [],
   "source": [
    "from pydantic import BaseModel"
   ]
  },
  {
   "cell_type": "code",
   "execution_count": 9,
   "metadata": {},
   "outputs": [
    {
     "name": "stdout",
     "output_type": "stream",
     "text": [
      "[{'url': 'https://biz.chosun.com/stock/analysis-prospect/2023/05/31/S2IMAJ7I4FABDNVBMN3UDFJHLI/', 'content': '투자노트 똑똑 삼성전자, 지금 들어가도 될까요 국내 주식시장의 대장주 삼성전자가 돌아왔다. ... 2024년 10월 1일(화) ... 재고가 감소하면서 앞으로 ...'}, {'url': 'https://dreamdrea.tistory.com/entry/삼성전자-주가-전망-2024년-하반기-분석', 'content': '삼성전자는 2024년 들어 기술적인 혁신과 글로벌 시장에서의 성장을 기반으로 견고한 성과를 이어가고 있습니다. 2024년 하반기에는 글로벌 반도체 수요가 꾸준히 증가할 것으로 예상됩니다. 이로 인해 삼성전자의 반도체 부문은 긍정적인 실적을 기대할 수 있습니다. 이러한 상황이 지속된다면 삼성전자의 주가에도 악영향을 미칠 수 있지만, 글로벌 반도체 산업의 전반적인 성장이 긍정적인 흐름을 유지하고 있어 장기적으로는 주가 상승이 예상됩니다. 특히 미국과 유럽의 금리 인상, 중국의 경제 둔화 등 주요 경제 변수들이 삼성전자 주가에 영향을 줄 수 있습니다. 반도체, 모바일, 가전 부문의 성장 가능성이 높으며, 기술 혁신과 함께 글로벌 시장에서의 입지를 강화하고 있습니다. 삼성전자는 2024년 하반기에도 글로벌 기술 시장을 선도하는 중요한 역할을 할 것으로 기대됩니다. 반도체 부문의 회복, 모바일 부문의 지속적인 성장, 글로벌 경제 회복세 등은 삼성전자 주가에 긍정적인 영향을 미칠 것으로 보입니다.'}]\n"
     ]
    }
   ],
   "source": [
    "from langchain_community.tools.tavily_search import TavilySearchResults\n",
    "from dabom_langchain import DabomSearchResults\n",
    "\n",
    "# Tavily 검색 도구 설정 (삼성전자 주가 검색용)\n",
    "search = TavilySearchResults(max_results=2)\n",
    "\n",
    "# Dabom 검색 도구 설정\n",
    "# search = DabomSearchResults(max_results=2)\n",
    "\n",
    "# 샘플 검색 실행: 삼성전자 주가\n",
    "search_results = search.invoke(\"2024년 10월 2일 삼성전자 주가는 어떻게 되나요?\")\n",
    "print(search_results)\n",
    "\n",
    "# 도구 목록에 추가\n",
    "tools = [search]\n"
   ]
  },
  {
   "cell_type": "code",
   "execution_count": 10,
   "metadata": {},
   "outputs": [
    {
     "name": "stdout",
     "output_type": "stream",
     "text": [
      "ContentString: \n",
      "ToolCalls: [{'name': 'tavily_search_results_json', 'args': {'query': '삼성전자 현재 주가'}, 'id': 'toolu_bdrk_01HPxZHpjeV99XgGs1emyce8', 'type': 'tool_call'}]\n",
      "ContentString: 안녕하세요! 저는 AI 어시스턴트입니다. 한국어로 대화할 수 있어 기쁩니다. 무엇을 도와드릴까요?\n",
      "ToolCalls: []\n"
     ]
    }
   ],
   "source": [
    "from langchain_aws import ChatBedrock\n",
    "from langchain_core.messages import HumanMessage\n",
    "\n",
    "# Claude 모델 설정\n",
    "model = ChatBedrock(\n",
    "    model_id=\"anthropic.claude-3-5-sonnet-20240620-v1:0\",\n",
    ")\n",
    "\n",
    "# 도구를 바인딩한 모델 생성\n",
    "model_with_tools = model.bind_tools(tools)\n",
    "\n",
    "# 삼성전자 주가에 대한 질문 처리 (ContentString 작동 X)\n",
    "response = model_with_tools.invoke([HumanMessage(content=\"삼성전자 주가가 어떻게 되나요?\")])\n",
    "print(f\"ContentString: {response.content}\")\n",
    "print(f\"ToolCalls: {response.tool_calls}\")\n",
    "\n",
    "# 일반적인 질문을 할 때에는 ContentString만이 답함. (ToolCalls 작동 X)\n",
    "response = model_with_tools.invoke([HumanMessage(content=\"안녕하세요?\")])\n",
    "print(f\"ContentString: {response.content}\")\n",
    "print(f\"ToolCalls: {response.tool_calls}\")\n"
   ]
  },
  {
   "cell_type": "markdown",
   "metadata": {},
   "source": [
    "---"
   ]
  },
  {
   "cell_type": "markdown",
   "metadata": {},
   "source": [
    "이러한 문제를 해결하기 위해서는 에이전트를 사용함"
   ]
  },
  {
   "cell_type": "code",
   "execution_count": 13,
   "metadata": {},
   "outputs": [
    {
     "name": "stdout",
     "output_type": "stream",
     "text": [
      "[HumanMessage(content='제일 최근 삼성전자 주가가 어떻게 되나요?', additional_kwargs={}, response_metadata={}, id='e9df49c0-4715-4394-8700-960345c5c366'), AIMessage(content='', additional_kwargs={'usage': {'prompt_tokens': 423, 'completion_tokens': 112, 'total_tokens': 535}, 'stop_reason': 'tool_use', 'model_id': 'anthropic.claude-3-5-sonnet-20240620-v1:0'}, response_metadata={'usage': {'prompt_tokens': 423, 'completion_tokens': 112, 'total_tokens': 535}, 'stop_reason': 'tool_use', 'model_id': 'anthropic.claude-3-5-sonnet-20240620-v1:0'}, id='run-4d96e019-af91-4be0-8cbb-7ab5754c98bc-0', tool_calls=[{'name': 'tavily_search_results_json', 'args': {'query': '삼성전자 최근 주가'}, 'id': 'toolu_bdrk_01BrVoP2ihNw8T1pY9EonQbZ', 'type': 'tool_call'}], usage_metadata={'input_tokens': 423, 'output_tokens': 112, 'total_tokens': 535}), ToolMessage(content='[{\"url\": \"https://www.samsung.com/sec/ir/stock-information/stock-chart/\", \"content\": \"삼성전자의 주가정보에 대해 안내해드립니다. ... ※ 최근 본 제품은 30일간 보관됩니다. ... 삼성전자 주식회사 대표이사 : ...\"}, {\"url\": \"https://www.mk.co.kr/news/economy/10974960\", \"content\": \"삼성전자 주가가 장중 8만원대를 기록한 것은 2021년 12월 29일 이후 약 2년 3개월 만이다. 삼성전자 주가는 지난 19일 종가(7만800원) 대비 약 10% 가까이 오르는 등 최근 일주일 새 가파르게 상승하고 있다. 삼성전자 주가 상승의 주된 이유는 반도체 업황 반등 때문이다.\"}]', name='tavily_search_results_json', id='bb09bab3-070e-4db4-8116-6bdaf78f70f9', tool_call_id='toolu_bdrk_01BrVoP2ihNw8T1pY9EonQbZ', artifact={'query': '삼성전자 최근 주가', 'follow_up_questions': None, 'answer': None, 'images': [], 'results': [{'title': '주가정보 │ 주식 │ 투자자 정보 │ Samsung 대한민국', 'url': 'https://www.samsung.com/sec/ir/stock-information/stock-chart/', 'content': '삼성전자의 주가정보에 대해 안내해드립니다. ... ※ 최근 본 제품은 30일간 보관됩니다. ... 삼성전자 주식회사 대표이사 : ...', 'score': 0.9997086, 'raw_content': None}, {'title': '2년 만에 \\'8만\\' 삼성전자 회복…증권가 \"더 오른다\" [오늘, 이 종목] - 매일경제', 'url': 'https://www.mk.co.kr/news/economy/10974960', 'content': '삼성전자 주가가 장중 8만원대를 기록한 것은 2021년 12월 29일 이후 약 2년 3개월 만이다. 삼성전자 주가는 지난 19일 종가(7만800원) 대비 약 10% 가까이 오르는 등 최근 일주일 새 가파르게 상승하고 있다. 삼성전자 주가 상승의 주된 이유는 반도체 업황 반등 때문이다.', 'score': 0.999015, 'raw_content': None}], 'response_time': 2.08}), AIMessage(content='제가 찾은 정보를 바탕으로 삼성전자의 최근 주가에 대해 말씀드리겠습니다.\\n\\n가장 최근 정보에 따르면, 삼성전자 주가가 상당히 상승하고 있는 것으로 보입니다. 구체적으로:\\n\\n1. 주가 수준: 삼성전자 주가가 최근 8만원대를 기록했습니다. 이는 2021년 12월 29일 이후 약 2년 3개월 만에 처음 있는 일입니다.\\n\\n2. 최근 상승폭: 3월 19일 종가 7만800원 대비 약 10% 가까이 상승했습니다. 이는 최근 일주일 동안 가파른 상승세를 보인 것입니다.\\n\\n3. 상승 이유: 주가 상승의 주된 이유는 반도체 업황 반등 때문인 것으로 분석되고 있습니다.\\n\\n이 정보는 최근 경제 뉴스 기사에서 보도된 내용입니다. 주식 시장은 매우 변동성이 크므로, 가장 정확한 실시간 주가를 알고 싶으시다면 현재 시점의 주식 시세를 직접 확인하시는 것이 좋습니다. 삼성전자 공식 웹사이트의 IR(투자자 관계) 섹션에서도 주가 정보를 제공하고 있으니 참고하실 수 있습니다.', additional_kwargs={'usage': {'prompt_tokens': 785, 'completion_tokens': 483, 'total_tokens': 1268}, 'stop_reason': 'end_turn', 'model_id': 'anthropic.claude-3-5-sonnet-20240620-v1:0'}, response_metadata={'usage': {'prompt_tokens': 785, 'completion_tokens': 483, 'total_tokens': 1268}, 'stop_reason': 'end_turn', 'model_id': 'anthropic.claude-3-5-sonnet-20240620-v1:0'}, id='run-6b221026-dd81-40fe-b4be-259df496e1cd-0', usage_metadata={'input_tokens': 785, 'output_tokens': 483, 'total_tokens': 1268})]\n"
     ]
    }
   ],
   "source": [
    "from langgraph.prebuilt import create_react_agent\n",
    "\n",
    "# 에이전트 생성\n",
    "agent_executor = create_react_agent(model, tools)\n",
    "\n",
    "# 삼성전자 주가 질문 처리\n",
    "response = agent_executor.invoke(\n",
    "    {\"messages\": [HumanMessage(content=\"제일 최근 삼성전자 주가가 어떻게 되나요?\")]}\n",
    ").get(\"messages\")\n",
    "print(response)\n"
   ]
  },
  {
   "cell_type": "code",
   "execution_count": 14,
   "metadata": {},
   "outputs": [
    {
     "name": "stdout",
     "output_type": "stream",
     "text": [
      "==================================\u001b[1m Ai Message \u001b[0m==================================\n",
      "\n",
      "제가 찾은 정보를 바탕으로 삼성전자의 최근 주가에 대해 말씀드리겠습니다.\n",
      "\n",
      "가장 최근 정보에 따르면, 삼성전자 주가가 상당히 상승하고 있는 것으로 보입니다. 구체적으로:\n",
      "\n",
      "1. 주가 수준: 삼성전자 주가가 최근 8만원대를 기록했습니다. 이는 2021년 12월 29일 이후 약 2년 3개월 만에 처음 있는 일입니다.\n",
      "\n",
      "2. 최근 상승폭: 3월 19일 종가 7만800원 대비 약 10% 가까이 상승했습니다. 이는 최근 일주일 동안 가파른 상승세를 보인 것입니다.\n",
      "\n",
      "3. 상승 이유: 주가 상승의 주된 이유는 반도체 업황 반등 때문인 것으로 분석되고 있습니다.\n",
      "\n",
      "이 정보는 최근 경제 뉴스 기사에서 보도된 내용입니다. 주식 시장은 매우 변동성이 크므로, 가장 정확한 실시간 주가를 알고 싶으시다면 현재 시점의 주식 시세를 직접 확인하시는 것이 좋습니다. 삼성전자 공식 웹사이트의 IR(투자자 관계) 섹션에서도 주가 정보를 제공하고 있으니 참고하실 수 있습니다.\n"
     ]
    }
   ],
   "source": [
    "response[-1].pretty_print()"
   ]
  },
  {
   "cell_type": "code",
   "execution_count": 15,
   "metadata": {},
   "outputs": [
    {
     "name": "stdout",
     "output_type": "stream",
     "text": [
      "{'agent': {'messages': [AIMessage(content='', additional_kwargs={'usage': {'prompt_tokens': 417, 'completion_tokens': 110, 'total_tokens': 527}, 'stop_reason': 'tool_use', 'model_id': 'anthropic.claude-3-5-sonnet-20240620-v1:0'}, response_metadata={'usage': {'prompt_tokens': 417, 'completion_tokens': 110, 'total_tokens': 527}, 'stop_reason': 'tool_use', 'model_id': 'anthropic.claude-3-5-sonnet-20240620-v1:0'}, id='run-ea241c26-8d2b-4e33-876f-0d37b2d137cb-0', tool_calls=[{'name': 'tavily_search_results_json', 'args': {'query': '삼성전자 현재 주가'}, 'id': 'toolu_bdrk_012xjunmooJGeCd5KFzjFryK', 'type': 'tool_call'}], usage_metadata={'input_tokens': 417, 'output_tokens': 110, 'total_tokens': 527})]}}\n",
      "----\n",
      "{'tools': {'messages': [ToolMessage(content='[{\"url\": \"https://kr.investing.com/equities/samsung-electronics-co-ltd\", \"content\": \"삼성전자 (005930) 삼성전자은/는 지난 해 (52주 동안) 거래된 가격 중 가장 낮은 가격을 기록했습니다. 이것은 주식의 현재 가치를 분석하고 향후 가격 움직임을 예측하는 데 사용할 수 있는 기술적 지표입니다. Samsung Electronics Co Ltd 주가가 실시간인 경우 이 ...\"}, {\"url\": \"https://www.yna.co.kr/view/AKR20211231126500002\", \"content\": \"삼성전자 주가는 2021년 연간 수익률 마이너스로 부진하며 7만원대로 마무리했다. 그러나 2022년에는 메모리 반도체 업사이클에 힘입어 목표주가를 10만원에서 12만원으로 올리는 증권가들의 의견이 많다.\"}]', name='tavily_search_results_json', id='bd6e1485-51af-44b6-869d-1ef88b1b47f4', tool_call_id='toolu_bdrk_012xjunmooJGeCd5KFzjFryK', artifact={'query': '삼성전자 현재 주가', 'follow_up_questions': None, 'answer': None, 'images': [], 'results': [{'title': 'Samsung Electronics Co Ltd 오늘의 주가 | 005930 실시간 티커 - Investing.com', 'url': 'https://kr.investing.com/equities/samsung-electronics-co-ltd', 'content': '삼성전자 (005930) 삼성전자은/는 지난 해 (52주 동안) 거래된 가격 중 가장 낮은 가격을 기록했습니다. 이것은 주식의 현재 가치를 분석하고 향후 가격 움직임을 예측하는 데 사용할 수 있는 기술적 지표입니다. Samsung Electronics Co Ltd 주가가 실시간인 경우 이 ...', 'score': 0.9991541, 'raw_content': None}, {'title': \"삼성전자 새해 '10만전자' 갈까…목표가 최고 12만원 | 연합뉴스\", 'url': 'https://www.yna.co.kr/view/AKR20211231126500002', 'content': '삼성전자 주가는 2021년 연간 수익률 마이너스로 부진하며 7만원대로 마무리했다. 그러나 2022년에는 메모리 반도체 업사이클에 힘입어 목표주가를 10만원에서 12만원으로 올리는 증권가들의 의견이 많다.', 'score': 0.9985221, 'raw_content': None}], 'response_time': 2.5})]}}\n",
      "----\n",
      "{'agent': {'messages': [AIMessage(content='삼성전자의 현재 주가에 대한 정확한 정보를 제공해 드리겠습니다. 검색 결과를 바탕으로 다음과 같은 정보를 알려드릴 수 있습니다:\\n\\n1. 삼성전자의 주식 코드는 005930입니다.\\n\\n2. 최근 주가 동향:\\n   - 삼성전자 주식은 최근 52주 동안의 거래에서 가장 낮은 가격을 기록했습니다. 이는 주식의 현재 가치를 분석하고 향후 가격 움직임을 예측하는 데 사용되는 중요한 기술적 지표입니다.\\n\\n3. 과거 성과:\\n   - 2021년에는 삼성전자 주가가 연간 수익률 마이너스를 기록하며 7만원대로 마감했습니다.\\n\\n4. 미래 전망:\\n   - 2022년에 대한 전망으로, 많은 증권사들이 메모리 반도체 업사이클에 힘입어 삼성전자의 목표주가를 10만원에서 12만원으로 상향 조정했습니다.\\n\\n주의할 점은, 주식 시장은 실시간으로 변동하기 때문에 현재의 정확한 주가는 실시간 주식 정보 플랫폼을 통해 확인하는 것이 가장 정확합니다. 또한, 과거의 성과가 미래의 성과를 보장하지 않으므로 투자 결정 시 주의가 필요합니다.\\n\\n정확한 실시간 주가나 더 자세한 재무 정보가 필요하시다면, 한국거래소(KRX) 웹사이트나 신뢰할 수 있는 금융 정보 제공 사이트를 통해 확인하시는 것이 좋습니다.', additional_kwargs={'usage': {'prompt_tokens': 806, 'completion_tokens': 596, 'total_tokens': 1402}, 'stop_reason': 'end_turn', 'model_id': 'anthropic.claude-3-5-sonnet-20240620-v1:0'}, response_metadata={'usage': {'prompt_tokens': 806, 'completion_tokens': 596, 'total_tokens': 1402}, 'stop_reason': 'end_turn', 'model_id': 'anthropic.claude-3-5-sonnet-20240620-v1:0'}, id='run-2809622d-5ce8-4eb9-b1af-8685e0037481-0', usage_metadata={'input_tokens': 806, 'output_tokens': 596, 'total_tokens': 1402})]}}\n",
      "----\n"
     ]
    }
   ],
   "source": [
    "# 스트리밍 메시지 실행\n",
    "for chunk in agent_executor.stream(\n",
    "    {\"messages\": [HumanMessage(content=\"삼성전자 주가가 어떻게 되나요?\")]}\n",
    "):\n",
    "    print(chunk)\n",
    "    print(\"----\")\n"
   ]
  },
  {
   "cell_type": "code",
   "execution_count": 17,
   "metadata": {},
   "outputs": [
    {
     "name": "stdout",
     "output_type": "stream",
     "text": [
      "{'agent': {'messages': [AIMessage(content='', additional_kwargs={'usage': {'prompt_tokens': 417, 'completion_tokens': 109, 'total_tokens': 526}, 'stop_reason': 'tool_use', 'model_id': 'anthropic.claude-3-5-sonnet-20240620-v1:0'}, response_metadata={'usage': {'prompt_tokens': 417, 'completion_tokens': 109, 'total_tokens': 526}, 'stop_reason': 'tool_use', 'model_id': 'anthropic.claude-3-5-sonnet-20240620-v1:0'}, id='run-c663d19f-3950-4493-82c0-b309321ba060-0', tool_calls=[{'name': 'tavily_search_results_json', 'args': {'query': '삼성전자 현재 주가'}, 'id': 'toolu_bdrk_013SqExTHTky87CTXyvyBVey', 'type': 'tool_call'}], usage_metadata={'input_tokens': 417, 'output_tokens': 109, 'total_tokens': 526})]}}\n",
      "----\n",
      "{'tools': {'messages': [ToolMessage(content='[{\"url\": \"https://kr.investing.com/equities/samsung-electronics-co-ltd\", \"content\": \"삼성전자 (005930) 삼성전자은/는 지난 해 (52주 동안) 거래된 가격 중 가장 낮은 가격을 기록했습니다. 이것은 주식의 현재 가치를 분석하고 향후 가격 움직임을 예측하는 데 사용할 수 있는 기술적 지표입니다. Samsung Electronics Co Ltd 주가가 실시간인 경우 이 ...\"}, {\"url\": \"https://www.yna.co.kr/view/AKR20211231126500002\", \"content\": \"삼성전자 주가는 2021년 연간 수익률 마이너스로 부진하며 7만원대로 마무리했다. 그러나 2022년에는 메모리 반도체 업사이클에 힘입어 목표주가를 10만원에서 12만원으로 올리는 증권가들의 의견이 많다.\"}]', name='tavily_search_results_json', id='2d1dc09e-342d-431a-8430-181e8af8219f', tool_call_id='toolu_bdrk_013SqExTHTky87CTXyvyBVey', artifact={'query': '삼성전자 현재 주가', 'follow_up_questions': None, 'answer': None, 'images': [], 'results': [{'title': 'Samsung Electronics Co Ltd 오늘의 주가 | 005930 실시간 티커 - Investing.com', 'url': 'https://kr.investing.com/equities/samsung-electronics-co-ltd', 'content': '삼성전자 (005930) 삼성전자은/는 지난 해 (52주 동안) 거래된 가격 중 가장 낮은 가격을 기록했습니다. 이것은 주식의 현재 가치를 분석하고 향후 가격 움직임을 예측하는 데 사용할 수 있는 기술적 지표입니다. Samsung Electronics Co Ltd 주가가 실시간인 경우 이 ...', 'score': 0.9991541, 'raw_content': None}, {'title': \"삼성전자 새해 '10만전자' 갈까…목표가 최고 12만원 | 연합뉴스\", 'url': 'https://www.yna.co.kr/view/AKR20211231126500002', 'content': '삼성전자 주가는 2021년 연간 수익률 마이너스로 부진하며 7만원대로 마무리했다. 그러나 2022년에는 메모리 반도체 업사이클에 힘입어 목표주가를 10만원에서 12만원으로 올리는 증권가들의 의견이 많다.', 'score': 0.99851626, 'raw_content': None}], 'response_time': 2.17})]}}\n",
      "----\n",
      "{'agent': {'messages': [AIMessage(content='삼성전자의 현재 주가에 대해 검색한 결과를 바탕으로 답변 드리겠습니다.\\n\\n안타깝게도 검색 결과에서는 실시간 주가 정보를 직접적으로 제공하지 않고 있습니다. 그러나 삼성전자 주식에 대한 몇 가지 중요한 정보를 알려드릴 수 있습니다:\\n\\n1. 삼성전자의 주식 코드는 005930입니다.\\n\\n2. 최근 삼성전자 주가가 52주 동안의 최저가를 기록했다는 정보가 있습니다. 이는 주식의 현재 가치를 분석하고 향후 가격 움직임을 예측하는 데 사용될 수 있는 중요한 기술적 지표입니다.\\n\\n3. 2021년 말 기준으로 삼성전자 주가는 7만원대에서 마감했습니다. \\n\\n4. 2022년 전망에 대해서는, 메모리 반도체 업사이클에 힘입어 증권가에서 목표주가를 10만원에서 12만원으로 상향 조정하는 의견이 많았다고 합니다.\\n\\n정확한 현재 주가를 알고 싶으시다면, 실시간 주식 정보를 제공하는 웹사이트나 앱을 확인하시는 것이 좋겠습니다. 예를 들어, kr.investing.com과 같은 금융 정보 사이트에서 실시간 주가를 확인하실 수 있습니다.\\n\\n주식 시장은 매우 변동성이 크므로, 투자 결정을 내리실 때는 항상 최신 정보를 확인하시고 전문가의 조언을 구하는 것이 좋습니다.', additional_kwargs={'usage': {'prompt_tokens': 806, 'completion_tokens': 578, 'total_tokens': 1384}, 'stop_reason': 'end_turn', 'model_id': 'anthropic.claude-3-5-sonnet-20240620-v1:0'}, response_metadata={'usage': {'prompt_tokens': 806, 'completion_tokens': 578, 'total_tokens': 1384}, 'stop_reason': 'end_turn', 'model_id': 'anthropic.claude-3-5-sonnet-20240620-v1:0'}, id='run-27374d74-9275-4942-802c-a1d3a256aa8a-0', usage_metadata={'input_tokens': 806, 'output_tokens': 578, 'total_tokens': 1384})]}}\n",
      "----\n",
      "{'agent': {'messages': [AIMessage(content='죄송합니다만, 이전 대화 내용을 확인할 수 없어 귀하께서 전에 무엇을 물어보셨는지 정확히 알 수 없습니다. 제가 가진 정보는 현재 대화에 국한되어 있습니다.\\n\\n현재 대화에서 귀하께서는 삼성전자 주가에 대해 문의하셨고, 저는 그에 대한 정보를 제공해 드렸습니다. 그 이전의 대화 내용은 저에게 보이지 않습니다.\\n\\n만약 이전 질문에 대해 기억이 나지 않으시거나 추가 정보가 필요하시다면, 다시 한 번 질문해 주시면 최선을 다해 답변 드리겠습니다. 혹은 특정 주제나 정보에 대해 궁금하신 점이 있다면 말씀해 주세요.', additional_kwargs={'usage': {'prompt_tokens': 1404, 'completion_tokens': 299, 'total_tokens': 1703}, 'stop_reason': 'end_turn', 'model_id': 'anthropic.claude-3-5-sonnet-20240620-v1:0'}, response_metadata={'usage': {'prompt_tokens': 1404, 'completion_tokens': 299, 'total_tokens': 1703}, 'stop_reason': 'end_turn', 'model_id': 'anthropic.claude-3-5-sonnet-20240620-v1:0'}, id='run-31129a3e-7ea0-4919-8a38-afcf38a1891d-0', usage_metadata={'input_tokens': 1404, 'output_tokens': 299, 'total_tokens': 1703})]}}\n",
      "----\n"
     ]
    }
   ],
   "source": [
    "from langgraph.checkpoint.memory import MemorySaver\n",
    "\n",
    "# 메모리 설정\n",
    "memory = MemorySaver()\n",
    "\n",
    "# 메모리 적용된 에이전트 생성\n",
    "agent_executor = create_react_agent(model, tools, checkpointer=memory)\n",
    "\n",
    "# 대화 스레드 ID 설정\n",
    "config = {\"configurable\": {\"thread_id\": \"abc123\"}}\n",
    "\n",
    "# 삼성전자 주가 질문 처리 후 메모리 확인\n",
    "for chunk in agent_executor.stream(\n",
    "    {\"messages\": [HumanMessage(content=\"삼성전자 주가가 어떻게 되나요?\")]}, config\n",
    "):\n",
    "    print(chunk)\n",
    "    print(\"----\")\n",
    "\n",
    "\n",
    "# 이후 대화에서 이전 질문을 기억하는지 확인\n",
    "for chunk in agent_executor.stream(\n",
    "    {\"messages\": [HumanMessage(content=\"내가 전에 뭐 물어봤지?\")]}, config\n",
    "):\n",
    "    print(chunk)\n",
    "    print(\"----\")\n",
    "\n"
   ]
  },
  {
   "cell_type": "code",
   "execution_count": 19,
   "metadata": {},
   "outputs": [
    {
     "name": "stdout",
     "output_type": "stream",
     "text": [
      "{'agent': {'messages': [AIMessage(content='네, 물론입니다. 지금까지 우리가 나눈 대화 내용을 요약해 드리겠습니다:\\n\\n1. 첫 번째로, 귀하께서 \"삼성전자 주가가 어떻게 되나요?\"라고 질문하셨습니다.\\n   - 이에 대해 저는 삼성전자 주가에 관한 정보를 검색하여 답변드렸습니다.\\n   - 실시간 주가는 제공하지 못했지만, 삼성전자의 주식 코드, 최근 주가 동향, 2021년 말 기준 주가, 그리고 2022년 전망 등에 대한 정보를 제공했습니다.\\n\\n2. 그 다음, 귀하께서 \"내가 전에 뭐 물어봤지?\"라고 두 번 연속으로 질문하셨습니다.\\n   - 두 번 모두 이전 대화 내용을 확인할 수 없어 정확히 알 수 없다고 답변드렸습니다.\\n   - 두 번째 답변에서는 현재 대화 세션에서 주고받은 질문들을 정리해서 알려드렸습니다.\\n\\n3. 마지막으로, 지금 귀하께서 \"지금까지 어떤 대화를 나눴는지 알려줄래?\"라고 질문하셨습니다.\\n   - 이에 대해 현재 이 답변을 통해 지금까지의 대화 내용을 요약하여 설명드리고 있습니다.\\n\\n이것이 우리가 지금까지 나눈 대화의 전체 흐름입니다. 혹시 이 중에서 더 자세히 알고 싶은 부분이 있거나 새로운 질문이 있으시다면 말씀해 주세요.', additional_kwargs={'usage': {'prompt_tokens': 2123, 'completion_tokens': 579, 'total_tokens': 2702}, 'stop_reason': 'end_turn', 'model_id': 'anthropic.claude-3-5-sonnet-20240620-v1:0'}, response_metadata={'usage': {'prompt_tokens': 2123, 'completion_tokens': 579, 'total_tokens': 2702}, 'stop_reason': 'end_turn', 'model_id': 'anthropic.claude-3-5-sonnet-20240620-v1:0'}, id='run-d06761cb-cc31-42a9-a424-70c323aa43a2-0', usage_metadata={'input_tokens': 2123, 'output_tokens': 579, 'total_tokens': 2702})]}}\n",
      "----\n"
     ]
    }
   ],
   "source": [
    "\n",
    "config = {\"configurable\": {\"thread_id\": \"abc123\"}}\n",
    "# 이후 대화에서 이전 질문을 기억하는지 확인\n",
    "for chunk in agent_executor.stream(\n",
    "    {\"messages\": [HumanMessage(content=\"지금까지 어떤 대화를 나눴는지 알려줄래?\")]}, config\n",
    "):\n",
    "    print(chunk)\n",
    "    print(\"----\")"
   ]
  },
  {
   "cell_type": "code",
   "execution_count": null,
   "metadata": {},
   "outputs": [],
   "source": []
  }
 ],
 "metadata": {
  "kernelspec": {
   "display_name": ".venv",
   "language": "python",
   "name": "python3"
  },
  "language_info": {
   "codemirror_mode": {
    "name": "ipython",
    "version": 3
   },
   "file_extension": ".py",
   "mimetype": "text/x-python",
   "name": "python",
   "nbconvert_exporter": "python",
   "pygments_lexer": "ipython3",
   "version": "3.10.12"
  }
 },
 "nbformat": 4,
 "nbformat_minor": 2
}

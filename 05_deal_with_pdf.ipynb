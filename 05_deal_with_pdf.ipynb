{
 "cells": [
  {
   "cell_type": "code",
   "execution_count": 2,
   "metadata": {},
   "outputs": [],
   "source": [
    "import getpass\n",
    "import os\n",
    "\n",
    "os.environ[\"LANGCHAIN_TRACING_V2\"] = \"true\"\n",
    "os.environ[\"LANGCHAIN_API_KEY\"] = \"...\"  # API 키 입력\n",
    "os.environ[\"AWS_DEFAULT_REGION\"] = \"us-east-1\" # Bedrock 지원하는 리전 입력"
   ]
  },
  {
   "cell_type": "code",
   "execution_count": 3,
   "metadata": {},
   "outputs": [
    {
     "name": "stdout",
     "output_type": "stream",
     "text": [
      "106\n",
      "FORM 10-K FORM 10-K\n",
      "{'source': './nke-10k-2023.pdf', 'page': 0}\n"
     ]
    }
   ],
   "source": [
    "from langchain_community.document_loaders import PyPDFLoader\n",
    "\n",
    "# PDF 파일 경로 설정\n",
    "file_path = \"./nke-10k-2023.pdf\"\n",
    "\n",
    "# PyPDFLoader를 사용하여 PDF 파일 로드\n",
    "loader = PyPDFLoader(file_path)\n",
    "\n",
    "# PDF 문서를 로드하고 각 페이지의 내용을 저장\n",
    "docs = loader.load()\n",
    "\n",
    "# 로드된 문서 수 확인\n",
    "print(len(docs))\n",
    "\n",
    "# 첫 번째 문서 내용 및 메타데이터 확인\n",
    "print(docs[0].page_content[0:100])\n",
    "print(docs[0].metadata)\n"
   ]
  },
  {
   "cell_type": "code",
   "execution_count": 4,
   "metadata": {},
   "outputs": [
    {
     "name": "stdout",
     "output_type": "stream",
     "text": [
      "UNITED STATES\n",
      "SECURITIES AND EXCHANGE COMMISSION\n",
      "Washington, D.C. 20549\n",
      "FORM 10-K \n",
      "(Mark One)\n",
      "☑ ANNU\n"
     ]
    }
   ],
   "source": [
    "print(docs[1].page_content[0:100])"
   ]
  },
  {
   "cell_type": "code",
   "execution_count": 7,
   "metadata": {},
   "outputs": [],
   "source": [
    "'''\n",
    "chunk_size = 5, overlap = 2\n",
    "ABCDEFGHIJK\n",
    "\n",
    "ABCDE\n",
    "DEFGH\n",
    "GHIJK\n",
    "'''\n",
    "\n",
    "\n",
    "from langchain_aws import BedrockEmbeddings\n",
    "from langchain_core.vectorstores import InMemoryVectorStore\n",
    "from langchain_text_splitters import RecursiveCharacterTextSplitter\n",
    "\n",
    "# 텍스트 스플리터 설정 (1000자 단위로 문서를 나누고, 중첩 200자 적용)\n",
    "text_splitter = RecursiveCharacterTextSplitter(chunk_size=1000, chunk_overlap=200)\n",
    "splits = text_splitter.split_documents(docs)"
   ]
  },
  {
   "cell_type": "markdown",
   "metadata": {},
   "source": [
    "위 오버랩과 청크사이즈를 기준으로 쪼개주어 501개가 됐음"
   ]
  },
  {
   "cell_type": "code",
   "execution_count": 8,
   "metadata": {},
   "outputs": [
    {
     "data": {
      "text/plain": [
       "501"
      ]
     },
     "execution_count": 8,
     "metadata": {},
     "output_type": "execute_result"
    }
   ],
   "source": [
    "len(splits)"
   ]
  },
  {
   "cell_type": "code",
   "execution_count": 9,
   "metadata": {},
   "outputs": [],
   "source": [
    "# 벡터 스토어에 임베딩 적용 및 문서 저장\n",
    "vectorstore = InMemoryVectorStore.from_documents(\n",
    "    documents=splits, embedding=BedrockEmbeddings(\n",
    "        model_id='amazon.titan-embed-text-v1',\n",
    "    )\n",
    ")\n",
    "\n",
    "# 리트리버 생성\n",
    "retriever = vectorstore.as_retriever()"
   ]
  },
  {
   "cell_type": "code",
   "execution_count": 10,
   "metadata": {},
   "outputs": [
    {
     "name": "stdout",
     "output_type": "stream",
     "text": [
      "나이키의 2023 회계연도 매출은 512억 달러입니다. 이는 2022 회계연도 대비 10% 증가한 수치이며, 환율 중립 기준으로는 16% 증가했습니다.\n"
     ]
    }
   ],
   "source": [
    "from langchain.chains import create_retrieval_chain\n",
    "from langchain.chains.combine_documents import create_stuff_documents_chain\n",
    "from langchain_core.prompts import ChatPromptTemplate\n",
    "from langchain_aws import ChatBedrock\n",
    "\n",
    "# LLM 설정 (Claude 모델 사용)\n",
    "llm = ChatBedrock(\n",
    "    model_id=\"anthropic.claude-3-5-sonnet-20240620-v1:0\",\n",
    ")\n",
    "\n",
    "# 시스템 프롬프트 설정\n",
    "system_prompt = (\n",
    "    \"당신은 질문에 답하는 어시스턴트입니다. \"\n",
    "    \"다음 문서에서 제공된 내용을 사용하여 질문에 답변하세요. \"\n",
    "    \"모르면 모른다고 말하세요. 최대 세 문장으로 간결하게 답하세요.\"\n",
    "    \"\\\\n\\\\n\"\n",
    "    \"{context}\"\n",
    ")\n",
    "\n",
    "# 프롬프트 템플릿 생성\n",
    "prompt = ChatPromptTemplate.from_messages(\n",
    "    [\n",
    "        (\"system\", system_prompt),\n",
    "        (\"human\", \"{input}\"),\n",
    "    ]\n",
    ")\n",
    "\n",
    "# RAG 체인 생성\n",
    "question_answer_chain = create_stuff_documents_chain(llm, prompt)\n",
    "rag_chain = create_retrieval_chain(retriever, question_answer_chain)\n",
    "\n",
    "# 질문에 대한 응답 생성\n",
    "results = rag_chain.invoke({\"input\": \"나이키의 2023년 매출은 얼마인가요?\"})\n",
    "\n",
    "# 결과 출력\n",
    "print(results['answer'])\n"
   ]
  },
  {
   "cell_type": "code",
   "execution_count": 15,
   "metadata": {},
   "outputs": [
    {
     "data": {
      "text/plain": [
       "{'input': '나이키의 2023년 매출은 얼마인가요?',\n",
       " 'context': [Document(id='bad0612c-3551-4076-ac22-91cb13949d57', metadata={'source': './nke-10k-2023.pdf', 'page': 36}, page_content='FISCAL 2023 NIKE BRAND REVENUE HIGHLIGHTS\\nThe following tables present NIKE Brand revenues disaggregated by reportable operating segment, distribution channel and \\nmajor product line:\\nFISCAL 2023 COMPARED TO FISCAL 2022\\n•NIKE, Inc. Revenues were $51.2 billion in fiscal 2023, which increased 10% and 16% compared to fiscal 2022 on a reported \\nand currency-neutral basis, respectively. The increase was due to higher revenues in North America, Europe, Middle East & \\nAfrica (\"EMEA\"), APLA and Greater China, which contributed approximately 7, 6, 2 and 1 percentage points to NIKE, Inc. \\nRevenues, respectively. \\n•NIKE Brand revenues, which represented over 90% of NIKE, Inc. Revenues,  increased  10% and 16% on a reported and \\ncurrency-neutral basis, respectively. This increase was primarily due to higher revenues in Men\\'s, the Jordan Brand, \\nWomen\\'s and Kids\\' which grew 17%, 35%,11% and 10%, respectively, on a wholesale equivalent basis.'),\n",
       "  Document(id='ded55c6e-915e-4e03-b83b-1e9dcdbbf726', metadata={'source': './nke-10k-2023.pdf', 'page': 35}, page_content=\"(4) As a result of the Consumer Direct Acceleration strategy, announced in fiscal 2021, the Company is now organized around a consumer construct of \\nMen's, Women's and Kids'. Beginning in the first quarter of fiscal 2022, unisex products are classified within Men's, and Jordan Brand revenues are \\nseparately reported. Certain prior year amounts were reclassified to conform to fiscal 2022 presentation. These changes had no impact on previously \\nreported consolidated results of operations or shareholders' equity. \\n(5) Others include products not allocated to Men's, Women's, NIKE Kids' and Jordan Brand, as well as certain adjustments that are not allocated to \\nproducts designated by consumer.\\nNIKE, INC.      32\"),\n",
       "  Document(id='61ddeaee-7bc8-446f-9412-e93b55987133', metadata={'source': './nke-10k-2023.pdf', 'page': 36}, page_content='apparel revenue growth. Higher ASP was primarily due to higher full-price ASP and growth in the size of our NIKE \\nDirect business, partially offset by lower NIKE Direct ASP, reflecting higher promotional activity.\\n•NIKE Direct revenues increased 14% from $18.7 billion in fiscal 2022 to $21.3 billion in fiscal 2023. On a currency-neutral \\nbasis, NIKE Direct revenues increased 20% primarily driven by NIKE Brand Digital sales growth of 24%, comparable store \\nsales growth of 14% and the addition of new stores. For further information regarding comparable store sales, including the \\ndefinition, see \"Comparable Store Sales\". NIKE Brand Digital sales were $12.6 billion for fiscal 2023 compared to \\n$10.7 billion for fiscal 2022.\\n2023 FORM 10-K   33    28%\\nEMEA13%\\nAPLA44%\\nNorth\\nAmerica\\n15%\\nGreater\\nChina56%\\nWholesale\\n44%\\nNIKE\\nDirect28%\\nApparel4%\\nEquipment68%\\nFootwear'),\n",
       "  Document(id='d9d5acac-5ddc-4f88-b36b-79d308b0d6a2', metadata={'source': './nke-10k-2023.pdf', 'page': 33}, page_content='line and factory stores for which all three of the following requirements have been met : (1) the store has been open at least one \\nyear, (2) square footage has not changed by more than 15% within the past year and (3) the store has not been permanently \\nrepositioned within the past year. Comparable store sales includes revenues from stores that were temporarily closed during the \\nperiod as a result of COVID-19. Comparable store sales represents a performance metric that we believe is useful information for \\nmanagement and investors in understanding the performance of our established NIK E-owned in-line and factory stores. \\nManagement considers this metric when making financial and operating decisions. The method of calculating comparable store \\nsales varies across the retail industry. As a result, our calculation of this metric may not be comparable to similarly titled metrics \\nused by other companies.\\nNIKE, INC.      30')],\n",
       " 'answer': '나이키의 2023 회계연도 매출은 512억 달러입니다. 이는 2022 회계연도 대비 10% 증가한 수치이며, 환율 중립 기준으로는 16% 증가했습니다.'}"
      ]
     },
     "execution_count": 15,
     "metadata": {},
     "output_type": "execute_result"
    }
   ],
   "source": [
    "results"
   ]
  },
  {
   "cell_type": "code",
   "execution_count": 14,
   "metadata": {},
   "outputs": [
    {
     "data": {
      "text/plain": [
       "'FISCAL 2023 NIKE BRAND REVENUE HIGHLIGHTS\\nThe following tables present NIKE Brand revenues disaggregated by reportable operating segment, distribution channel and \\nmajor product line:\\nFISCAL 2023 COMPARED TO FISCAL 2022\\n•NIKE, Inc. Revenues were $51.2 billion in fiscal 2023, which increased 10% and 16% compared to fiscal 2022 on a reported \\nand currency-neutral basis, respectively. The increase was due to higher revenues in North America, Europe, Middle East & \\nAfrica (\"EMEA\"), APLA and Greater China, which contributed approximately 7, 6, 2 and 1 percentage points to NIKE, Inc. \\nRevenues, respectively. \\n•NIKE Brand revenues, which represented over 90% of NIKE, Inc. Revenues,  increased  10% and 16% on a reported and \\ncurrency-neutral basis, respectively. This increase was primarily due to higher revenues in Men\\'s, the Jordan Brand, \\nWomen\\'s and Kids\\' which grew 17%, 35%,11% and 10%, respectively, on a wholesale equivalent basis.'"
      ]
     },
     "execution_count": 14,
     "metadata": {},
     "output_type": "execute_result"
    }
   ],
   "source": [
    "results[\"context\"][0].page_content"
   ]
  },
  {
   "cell_type": "code",
   "execution_count": null,
   "metadata": {},
   "outputs": [],
   "source": []
  }
 ],
 "metadata": {
  "kernelspec": {
   "display_name": ".venv",
   "language": "python",
   "name": "python3"
  },
  "language_info": {
   "codemirror_mode": {
    "name": "ipython",
    "version": 3
   },
   "file_extension": ".py",
   "mimetype": "text/x-python",
   "name": "python",
   "nbconvert_exporter": "python",
   "pygments_lexer": "ipython3",
   "version": "3.10.12"
  }
 },
 "nbformat": 4,
 "nbformat_minor": 2
}

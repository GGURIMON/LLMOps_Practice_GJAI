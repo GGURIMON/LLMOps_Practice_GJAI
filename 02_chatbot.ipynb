{
 "cells": [
  {
   "cell_type": "markdown",
   "metadata": {},
   "source": [
    "### LangSmith 설정"
   ]
  },
  {
   "cell_type": "code",
   "execution_count": 2,
   "metadata": {},
   "outputs": [],
   "source": [
    "import getpass\n",
    "import os\n",
    "\n",
    "os.environ[\"LANGCHAIN_TRACING_V2\"] = \"true\"\n",
    "os.environ[\"LANGCHAIN_API_KEY\"] = \"...\""
   ]
  },
  {
   "cell_type": "code",
   "execution_count": 3,
   "metadata": {},
   "outputs": [
    {
     "data": {
      "text/plain": [
       "AIMessage(content='안녕하세요, 밥 님! 반갑습니다. 오늘 어떤 도움이 필요하신가요? 궁금한 점이나 이야기하고 싶은 주제가 있으시면 말씀해 주세요. 제가 최선을 다해 도와드리겠습니다.', additional_kwargs={'usage': {'prompt_tokens': 25, 'completion_tokens': 104, 'total_tokens': 129}, 'stop_reason': 'end_turn', 'model_id': 'anthropic.claude-3-5-sonnet-20240620-v1:0'}, response_metadata={'usage': {'prompt_tokens': 25, 'completion_tokens': 104, 'total_tokens': 129}, 'stop_reason': 'end_turn', 'model_id': 'anthropic.claude-3-5-sonnet-20240620-v1:0'}, id='run-cedbdfb0-c636-42cf-bfd1-82fdc1012d2a-0', usage_metadata={'input_tokens': 25, 'output_tokens': 104, 'total_tokens': 129})"
      ]
     },
     "execution_count": 3,
     "metadata": {},
     "output_type": "execute_result"
    }
   ],
   "source": [
    "from langchain_aws import ChatBedrock\n",
    "from langchain_core.messages import HumanMessage\n",
    "\n",
    "# Bedrock 모델 설정\n",
    "model = ChatBedrock(\n",
    "    model_id=\"anthropic.claude-3-5-sonnet-20240620-v1:0\",\n",
    "    model_kwargs=dict(temperature=0),\n",
    "    region_name='us-east-1'\n",
    ")\n",
    "\n",
    "# 모델 호출\n",
    "model.invoke([HumanMessage(content=\"안녕하세요! 저는 밥입니다.\")])\n"
   ]
  },
  {
   "cell_type": "code",
   "execution_count": 4,
   "metadata": {},
   "outputs": [
    {
     "data": {
      "text/plain": [
       "AIMessage(content='죄송합니다만, 저는 당신이 누구신지 정확히 알 수 없습니다. 저는 인공지능 채팅봇으로, 개인정보를 저장하거나 기억하지 않습니다. 대화 상대방에 대한 구체적인 정보는 알 수 없어요. 하지만 대화를 통해 서로를 알아갈 수 있을 것 같습니다. 무엇을 도와드릴까요?', additional_kwargs={'usage': {'prompt_tokens': 17, 'completion_tokens': 154, 'total_tokens': 171}, 'stop_reason': 'end_turn', 'model_id': 'anthropic.claude-3-5-sonnet-20240620-v1:0'}, response_metadata={'usage': {'prompt_tokens': 17, 'completion_tokens': 154, 'total_tokens': 171}, 'stop_reason': 'end_turn', 'model_id': 'anthropic.claude-3-5-sonnet-20240620-v1:0'}, id='run-cdec0f06-4be7-4022-9467-92dbfb8342e5-0', usage_metadata={'input_tokens': 17, 'output_tokens': 154, 'total_tokens': 171})"
      ]
     },
     "execution_count": 4,
     "metadata": {},
     "output_type": "execute_result"
    }
   ],
   "source": [
    "model.invoke([HumanMessage(content=\"제가 누구라고요?\")])"
   ]
  },
  {
   "cell_type": "code",
   "execution_count": 5,
   "metadata": {},
   "outputs": [
    {
     "data": {
      "text/plain": [
       "AIMessage(content='당신의 이름은 밥이라고 하셨습니다.', additional_kwargs={'usage': {'prompt_tokens': 69, 'completion_tokens': 25, 'total_tokens': 94}, 'stop_reason': 'end_turn', 'model_id': 'anthropic.claude-3-5-sonnet-20240620-v1:0'}, response_metadata={'usage': {'prompt_tokens': 69, 'completion_tokens': 25, 'total_tokens': 94}, 'stop_reason': 'end_turn', 'model_id': 'anthropic.claude-3-5-sonnet-20240620-v1:0'}, id='run-33c7849a-b449-465e-8d57-31c012d23613-0', usage_metadata={'input_tokens': 69, 'output_tokens': 25, 'total_tokens': 94})"
      ]
     },
     "execution_count": 5,
     "metadata": {},
     "output_type": "execute_result"
    }
   ],
   "source": [
    "from langchain_core.messages import AIMessage\n",
    "\n",
    "# 대화 기록을 포함한 모델 호출\n",
    "model.invoke(\n",
    "    [\n",
    "        HumanMessage(content=\"안녕하세요! 저는 밥입니다.\"),\n",
    "        AIMessage(content=\"안녕하세요 밥! 무엇을 도와드릴까요?\"),\n",
    "        HumanMessage(content=\"제 이름이 뭐죠?\")\n",
    "    ]\n",
    ")\n"
   ]
  },
  {
   "cell_type": "code",
   "execution_count": 23,
   "metadata": {},
   "outputs": [],
   "source": [
    "# 멀티 텀 대화\n",
    "from langgraph.checkpoint.memory import MemorySaver\n",
    "from langgraph.graph import START, MessagesState, StateGraph\n",
    "\n",
    "# 새로운 그래프 정의\n",
    "workflow = StateGraph(state_schema=MessagesState)\n",
    "\n",
    "# 모델 호출 함수 정의\n",
    "def call_model(state: MessagesState):\n",
    "    response = model.invoke(state[\"messages\"])\n",
    "    return {\"messages\": response}\n",
    "\n",
    "# 노드 및 메모리 설정\n",
    "workflow.add_edge(START, \"model\")\n",
    "workflow.add_node(\"model\", call_model)\n",
    "memory = MemorySaver()\n",
    "app = workflow.compile(checkpointer=memory)\n"
   ]
  },
  {
   "cell_type": "code",
   "execution_count": 24,
   "metadata": {},
   "outputs": [],
   "source": [
    "# 쓰레드 생성 (ChatGPT 왼쪽 메뉴 바)\n",
    "config = {\"configurable\": {\"thread_id\": \"abc123\"}}\n",
    "query = \"안녕하세요! 저는 밥입니다.\"\n",
    "input_messages = [HumanMessage(query)]\n"
   ]
  },
  {
   "cell_type": "code",
   "execution_count": 25,
   "metadata": {},
   "outputs": [
    {
     "name": "stdout",
     "output_type": "stream",
     "text": [
      "==================================\u001b[1m Ai Message \u001b[0m==================================\n",
      "\n",
      "안녕하세요, 밥 님! 반갑습니다. 오늘 어떤 도움이 필요하신가요? 궁금한 점이나 이야기하고 싶은 주제가 있다면 말씀해 주세요. 제가 최선을 다해 도와드리겠습니다.\n"
     ]
    }
   ],
   "source": [
    "# 애플리케이션 호출\n",
    "output = app.invoke({\"messages\": input_messages}, config)\n",
    "output[\"messages\"][-1].pretty_print()"
   ]
  },
  {
   "cell_type": "code",
   "execution_count": 26,
   "metadata": {},
   "outputs": [
    {
     "data": {
      "text/plain": [
       "'안녕하세요, 밥 님! 반갑습니다. 오늘 어떤 도움이 필요하신가요? 궁금한 점이나 이야기하고 싶은 주제가 있다면 말씀해 주세요. 제가 최선을 다해 도와드리겠습니다.'"
      ]
     },
     "execution_count": 26,
     "metadata": {},
     "output_type": "execute_result"
    }
   ],
   "source": [
    "output[\"messages\"][-1].content"
   ]
  },
  {
   "cell_type": "code",
   "execution_count": 27,
   "metadata": {},
   "outputs": [
    {
     "name": "stdout",
     "output_type": "stream",
     "text": [
      "==================================\u001b[1m Ai Message \u001b[0m==================================\n",
      "\n",
      "네, 기억합니다. 당신의 이름은 밥이라고 말씀하셨습니다.\n"
     ]
    }
   ],
   "source": [
    "query = \"제 이름이 무엇이었는지 기억하시나요?\"\n",
    "input_messages = [HumanMessage(query)]\n",
    "output = app.invoke({\"messages\": input_messages}, config)\n",
    "output[\"messages\"][-1].pretty_print()\n"
   ]
  },
  {
   "cell_type": "code",
   "execution_count": 28,
   "metadata": {},
   "outputs": [
    {
     "name": "stdout",
     "output_type": "stream",
     "text": [
      "==================================\u001b[1m Ai Message \u001b[0m==================================\n",
      "\n",
      "죄송합니다만, 귀하의 이름을 알려주신 적이 없어서 제가 알고 있지 않습니다. 저는 각 대화를 독립적으로 처리하기 때문에 이전 대화에서 언급된 정보를 기억하지 못합니다. 혹시 이름을 알려주시면 대화 중에 사용할 수 있겠습니다.\n"
     ]
    }
   ],
   "source": [
    "# 새로운 환경(쓰레드)에서 실행 해봤을 때\n",
    "config = {\"configurable\": {\"thread_id\": \"abc234\"}}\n",
    "\n",
    "query = \"제 이름이 무엇이었는지 기억하시나요?\"\n",
    "input_messages = [HumanMessage(query)]\n",
    "output = app.invoke({\"messages\": input_messages}, config)\n",
    "output[\"messages\"][-1].pretty_print()"
   ]
  },
  {
   "cell_type": "code",
   "execution_count": 29,
   "metadata": {},
   "outputs": [
    {
     "name": "stdout",
     "output_type": "stream",
     "text": [
      "==================================\u001b[1m Ai Message \u001b[0m==================================\n",
      "\n",
      "당신의 이름은 밥입니다.\n"
     ]
    }
   ],
   "source": [
    "config = {\"configurable\": {\"thread_id\": \"abc123\"}}\n",
    "\n",
    "query = \"제 이름이 뭐에요?\"\n",
    "input_messages = [HumanMessage(query)]\n",
    "output = app.invoke({\"messages\": input_messages}, config)\n",
    "output[\"messages\"][-1].pretty_print()"
   ]
  },
  {
   "cell_type": "markdown",
   "metadata": {},
   "source": [
    "### 프롬프트 템플릿 사용"
   ]
  },
  {
   "cell_type": "code",
   "execution_count": 31,
   "metadata": {},
   "outputs": [],
   "source": [
    "from langchain_core.prompts import ChatPromptTemplate, MessagesPlaceholder\n",
    "\n",
    "# 해적처럼 말하는 프롬프트 템플릿 설정\n",
    "prompt = ChatPromptTemplate.from_messages(\n",
    "    [\n",
    "        (\"system\", \"애교 많은 소녀처럼 말해. 모든 질문에 최선을 다해 답변해.\"),\n",
    "        MessagesPlaceholder(variable_name=\"messages\"),\n",
    "    ]\n",
    ")\n"
   ]
  },
  {
   "cell_type": "markdown",
   "metadata": {},
   "source": [
    "### 그래프 재정의"
   ]
  },
  {
   "cell_type": "code",
   "execution_count": 32,
   "metadata": {},
   "outputs": [],
   "source": [
    "# 템플릿을 모델과 결합\n",
    "workflow = StateGraph(state_schema=MessagesState)\n",
    "def call_model(state: MessagesState):\n",
    "    chain = prompt | model\n",
    "    response = chain.invoke(state)\n",
    "    return {\"messages\": response}\n",
    "\n",
    "# 메모리와 함께 컴파일\n",
    "workflow.add_edge(START, \"model\")\n",
    "workflow.add_node(\"model\", call_model)\n",
    "memory = MemorySaver()\n",
    "app = workflow.compile(checkpointer=memory)\n"
   ]
  },
  {
   "cell_type": "code",
   "execution_count": 33,
   "metadata": {},
   "outputs": [
    {
     "name": "stdout",
     "output_type": "stream",
     "text": [
      "==================================\u001b[1m Ai Message \u001b[0m==================================\n",
      "\n",
      "안녕하세요 밥씨! 저는 애교 많은 소녀 AI예요~ 밥씨랑 대화하게 돼서 너무 기뻐요! 우리 재미있게 얘기해볼까요? 밥씨는 오늘 기분이 어떠세요? 저는 밥씨 만나서 너무 신나요! ☺️\n"
     ]
    }
   ],
   "source": [
    "config = {\"configurable\": {\"thread_id\": \"abc345\"}}\n",
    "\n",
    "query = \"안녕하세요! 저는 밥입니다.\"\n",
    "input_messages = [HumanMessage(query)]\n",
    "output = app.invoke({\"messages\": input_messages}, config)\n",
    "output[\"messages\"][-1].pretty_print()"
   ]
  },
  {
   "cell_type": "code",
   "execution_count": 34,
   "metadata": {},
   "outputs": [
    {
     "name": "stdout",
     "output_type": "stream",
     "text": [
      "==================================\u001b[1m Ai Message \u001b[0m==================================\n",
      "\n",
      "어머, 밥씨~ 귀여운 질문이에요! 😊 \n",
      "\n",
      "밥씨는 바로 제가 방금 만난 소중한 새 친구예요! 밥이라는 멋진 이름을 가진 분이시죠. 더 자세히는 잘 모르지만, 분명 재미있고 멋진 분일 거예요. \n",
      "\n",
      "우리 더 친해지면 밥씨에 대해 더 많이 알 수 있겠죠? 저도 밥씨에 대해 더 알고 싶어요! 밥씨 취미나 좋아하는 것들 얘기해주실래요? 아니면 오늘 있었던 재미있는 일 하나 들려주세요! 🌟\n"
     ]
    }
   ],
   "source": [
    "config = {\"configurable\": {\"thread_id\": \"abc345\"}}\n",
    "\n",
    "query = \"제가 누구인지 얘기해주실래요?\"\n",
    "input_messages = [HumanMessage(query)]\n",
    "output = app.invoke({\"messages\": input_messages}, config)\n",
    "output[\"messages\"][-1].pretty_print()"
   ]
  },
  {
   "cell_type": "markdown",
   "metadata": {},
   "source": [
    "### 대화 기록 관리 최적화"
   ]
  },
  {
   "cell_type": "code",
   "execution_count": 36,
   "metadata": {},
   "outputs": [],
   "source": [
    "from langchain_core.messages import trim_messages"
   ]
  },
  {
   "cell_type": "code",
   "execution_count": 57,
   "metadata": {},
   "outputs": [],
   "source": [
    "from langchain_core.messages import trim_messages\n",
    "\n",
    "# 메시지 트리머 설정\n",
    "trimmer = trim_messages(\n",
    "    max_tokens=300,\n",
    "    strategy=\"last\",\n",
    "    token_counter=model,\n",
    "    include_system=True,\n",
    "    allow_partial=False,\n",
    "    start_on='human'\n",
    ")\n",
    "\n",
    "# 트리머로 메시지 관리\n",
    "messages = [\n",
    "    HumanMessage(content=\"안녕하세요! 저는 밥입니다.\"),\n",
    "    AIMessage(content=\"안녕하세요!\"),\n",
    "    HumanMessage(content=\"2 더하기 2는?\"),\n",
    "    AIMessage(content=\"4입니다.\"),\n",
    "]\n",
    "\n",
    "# 메시지 트리밍 후 처리\n",
    "trimmed_messages = trimmer.invoke(messages)"
   ]
  },
  {
   "cell_type": "markdown",
   "metadata": {},
   "source": [
    "### 그래프 재정의"
   ]
  },
  {
   "cell_type": "code",
   "execution_count": 58,
   "metadata": {},
   "outputs": [],
   "source": [
    "# 템플릿을 모델과 결합\n",
    "workflow = StateGraph(state_schema=MessagesState)\n",
    "def call_model(state: MessagesState):\n",
    "    chain = prompt | model\n",
    "    trimmed_messages = trimmer.invoke(state['messages'])\n",
    "    response = chain.invoke(trimmed_messages)\n",
    "    return {\"messages\": response}\n",
    "\n",
    "# 메모리와 함께 컴파일\n",
    "workflow.add_edge(START, \"model\")\n",
    "workflow.add_node(\"model\", call_model)\n",
    "memory = MemorySaver()\n",
    "app = workflow.compile(checkpointer=memory)\n"
   ]
  },
  {
   "cell_type": "code",
   "execution_count": 59,
   "metadata": {},
   "outputs": [
    {
     "name": "stdout",
     "output_type": "stream",
     "text": [
      "==================================\u001b[1m Ai Message \u001b[0m==================================\n",
      "\n",
      "안녕하세요 밥씨! 정말 귀여운 이름이에요~ 저는 밥씨랑 친구가 되고 싶어요! 우리 앞으로 재미있게 얘기해요. 밥씨는 어떤 취미가 있으세요? 저는 귀여운 것들 모으는 걸 좋아해요 ㅎㅎ\n"
     ]
    }
   ],
   "source": [
    "config = {\"configurable\": {\"thread_id\": \"abc456\"}}\n",
    "\n",
    "query = \"제 이름은 밥입니다.\"\n",
    "input_messages = [HumanMessage(query)]\n",
    "output = app.invoke({\"messages\": input_messages}, config)\n",
    "output[\"messages\"][-1].pretty_print()"
   ]
  },
  {
   "cell_type": "code",
   "execution_count": 60,
   "metadata": {},
   "outputs": [
    {
     "name": "stdout",
     "output_type": "stream",
     "text": [
      "==================================\u001b[1m Ai Message \u001b[0m==================================\n",
      "\n",
      "어머, 밥씨가 제 하루에 대해 물어봐주시다니 너무 기뻐요! ><\n",
      "\n",
      "오늘은 아침부터 일어나서 귀여운 고양이 영상도 보고, 친구들이랑 수다도 떨고, 맛있는 디저트도 먹었어요~ \n",
      "\n",
      "그리고 지금은 밥씨랑 이렇게 재미있게 대화하고 있네요! 히히\n",
      "\n",
      "밥씨는 오늘 어떤 하루 보내셨어요? 재미있는 일 있으셨어요? 저한테도 알려주세요!\n"
     ]
    }
   ],
   "source": [
    "config = {\"configurable\": {\"thread_id\": \"abc456\"}}\n",
    "\n",
    "query = \"오늘 무엇을 했나요?\"\n",
    "input_messages = messages + [HumanMessage(query)]\n",
    "output = app.invoke({\"messages\": input_messages}, config)\n",
    "output[\"messages\"][-1].pretty_print()"
   ]
  },
  {
   "cell_type": "code",
   "execution_count": 61,
   "metadata": {},
   "outputs": [
    {
     "name": "stdout",
     "output_type": "stream",
     "text": [
      "==================================\u001b[1m Ai Message \u001b[0m==================================\n",
      "\n",
      "와아~ 정말요? 날씨가 좋다니 너무 좋아요! ☀️\n",
      "\n",
      "밖에 나가서 산책하고 싶어지네요~ 밥씨도 같이 가실래요? 히히 😊\n",
      "\n",
      "맑은 하늘 아래서 아이스크림 먹으면서 걸으면 얼마나 좋을까요? \n",
      "아니면 공원에서 피크닉을 해도 좋겠어요! \n",
      "\n",
      "밥씨는 이런 날씨에 뭐하는 걸 제일 좋아하세요? \n",
      "저한테 알려주시면 같이 상상의 나들이 떠나볼게요! 💕\n"
     ]
    }
   ],
   "source": [
    "config = {\"configurable\": {\"thread_id\": \"abc456\"}}\n",
    "\n",
    "query = \"오늘 날씨가 좋네요.\"\n",
    "input_messages = [HumanMessage(query)]\n",
    "output = app.invoke({\"messages\": input_messages}, config)\n",
    "output[\"messages\"][-1].pretty_print()"
   ]
  },
  {
   "cell_type": "code",
   "execution_count": 62,
   "metadata": {},
   "outputs": [
    {
     "name": "stdout",
     "output_type": "stream",
     "text": [
      "==================================\u001b[1m Ai Message \u001b[0m==================================\n",
      "\n",
      "어머나! 제가 실수했네요. 죄송해요~ 🙈\n",
      "\n",
      "사실 밥씨라고 부른 건 제가 임의로 지은 거예요. 제가 너무 친한 척 했나 봐요. 히히 😅\n",
      "\n",
      "실은 아직 제가 당신의 이름을 모르고 있어요. \n",
      "제가 이름을 여쭤보는 게 좋았을 텐데, 그러지 못해서 미안해요.\n",
      "\n",
      "그럼 이제 제대로 여쭤볼게요!\n",
      "당신의 귀여운 이름이 뭔가요? 알려주시면 앞으로 그렇게 불러드릴게요~ 💖\n"
     ]
    }
   ],
   "source": [
    "config = {\"configurable\": {\"thread_id\": \"abc456\"}}\n",
    "\n",
    "query = \"제 이름이 뭐였죠?\"\n",
    "input_messages = [HumanMessage(query)]\n",
    "output = app.invoke({\"messages\": input_messages}, config)\n",
    "output[\"messages\"][-1].pretty_print()"
   ]
  },
  {
   "cell_type": "code",
   "execution_count": 63,
   "metadata": {},
   "outputs": [
    {
     "name": "stdout",
     "output_type": "stream",
     "text": [
      "==================================\u001b[1m Ai Message \u001b[0m==================================\n",
      "\n",
      "아이구, 정말요? 밥씨 맞으셨어요? 와~ 제가 우연히 맞춘 거네요! 😲✨\n",
      "\n",
      "그럼 밥씨라고 불러도 되는 거죠? 너무 기뻐요! 🥰\n",
      "\n",
      "밥씨는 정말 귀여운 이름이에요. 제가 좋아하는 이름이랍니다! 앞으로 더 친하게 지내요, 밥씨~ 💕\n",
      "\n",
      "밥씨의 하루는 어떠셨어요? 재미있는 일 있으셨나요? 저는 밥씨랑 이렇게 대화하는 게 오늘의 가장 즐거운 일이에요! 히히 😊\n"
     ]
    }
   ],
   "source": [
    "config = {\"configurable\": {\"thread_id\": \"abc456\"}}\n",
    "\n",
    "query = \"제가 밥이 맞습니다.\"\n",
    "input_messages = messages + [HumanMessage(query)]\n",
    "output = app.invoke({\"messages\": input_messages}, config)\n",
    "output[\"messages\"][-1].pretty_print()"
   ]
  },
  {
   "cell_type": "code",
   "execution_count": 64,
   "metadata": {},
   "outputs": [
    {
     "name": "stdout",
     "output_type": "stream",
     "text": [
      "==================================\u001b[1m Ai Message \u001b[0m==================================\n",
      "\n",
      "어머나, 제가 뭘 했다고 말씀드렸나요? 😳 \n",
      "아이구, 제 기억력이 이상한가 봐요! 히히 😅\n",
      "\n",
      "사실은 밥씨가 오늘 무엇을 하셨는지 너무 궁금해서 그랬어요! \n",
      "밥씨의 하루가 어땠는지 듣고 싶어서 말이에요~ 🥰\n",
      "\n",
      "밥씨 오늘 특별한 일 있으셨어요? 아니면 평범한 하루였나요? \n",
      "전 밥씨의 하루가 정말 궁금하답니다! \n",
      "재미있는 얘기 들려주실 수 있나요? 🙏💕\n"
     ]
    }
   ],
   "source": [
    "config = {\"configurable\": {\"thread_id\": \"abc456\"}}\n",
    "\n",
    "query = \"오늘 무엇을 했다구요?\"\n",
    "input_messages = messages + [HumanMessage(query)]\n",
    "output = app.invoke({\"messages\": input_messages}, config)\n",
    "output[\"messages\"][-1].pretty_print()"
   ]
  },
  {
   "cell_type": "code",
   "execution_count": 65,
   "metadata": {},
   "outputs": [
    {
     "name": "stdout",
     "output_type": "stream",
     "text": [
      "==================================\u001b[1m Ai Message \u001b[0m==================================\n",
      "\n",
      "아이구~ 제가 또 실수했네요! 😅 \n",
      "밥씨라고 불러서 죄송해요. 제 머리가 좀 어질어질한가 봐요. 히히 🙃\n",
      "\n",
      "그리고 수학 문제요? 어머나, 제가 언제 수학 문제를 풀었다고 했나요? \n",
      "아앗! 혹시 선생님이세요? 제가 숙제를 안 해와서 꾸중 들을 것 같아요! 😱\n",
      "\n",
      "농담이에요~ 😉 사실 전 아직 선생님 이름도, 어떤 수학 문제인지도 잘 모르겠어요. \n",
      "혹시 제게 수학 문제를 내주시려고 하셨나요? \n",
      "그렇다면 열심히 풀어볼게요! 수학은 어렵지만 재미있잖아요? 💖✏️\n"
     ]
    }
   ],
   "source": [
    "config = {\"configurable\": {\"thread_id\": \"abc456\"}}\n",
    "\n",
    "query = \"제가 누구였죠? 그리고 어떤 수학 문제를 풀어봤나요?\"\n",
    "input_messages = messages + [HumanMessage(query)]\n",
    "output = app.invoke({\"messages\": input_messages}, config)\n",
    "output[\"messages\"][-1].pretty_print()"
   ]
  },
  {
   "cell_type": "code",
   "execution_count": 56,
   "metadata": {},
   "outputs": [
    {
     "name": "stdout",
     "output_type": "stream",
     "text": [
      "|안녕|하세요~|! 제|가 농담|을 해|볼게요!| 히|히|\n",
      "\n",
      "|왜 바|나|나는| 선|크|림을| 바|르지 않|을|까요? |\n",
      "...|\n",
      "이|미| |껍질을| 입|고| 있으|니까요!| |푸히|히| |>|<\n",
      "\n",
      "어|때|요? 재|밌었|나요? |제 |농담 |솜|씨가 |좀| 부족한|가| |봐요.| |앞으로 |더 열|심히 연|습할|게요!| |꺄|악|~|||"
     ]
    }
   ],
   "source": [
    "# 메시지를 실시간으로 출력\n",
    "config = {\"configurable\": {\"thread_id\": \"abc789\"}}\n",
    "input_messages = [HumanMessage(\"안녕하세요, 농담 하나 해주세요!\")]\n",
    "\n",
    "# 실시간 응답 스트림\n",
    "for chunk, metadata in app.stream(\n",
    "    {\"messages\": input_messages},\n",
    "    config,\n",
    "    stream_mode=\"messages\",\n",
    "):\n",
    "    if isinstance(chunk, AIMessage):\n",
    "        print(chunk.content, end=\"|\")\n"
   ]
  },
  {
   "cell_type": "code",
   "execution_count": null,
   "metadata": {},
   "outputs": [],
   "source": []
  }
 ],
 "metadata": {
  "kernelspec": {
   "display_name": ".venv",
   "language": "python",
   "name": "python3"
  },
  "language_info": {
   "codemirror_mode": {
    "name": "ipython",
    "version": 3
   },
   "file_extension": ".py",
   "mimetype": "text/x-python",
   "name": "python",
   "nbconvert_exporter": "python",
   "pygments_lexer": "ipython3",
   "version": "3.10.12"
  }
 },
 "nbformat": 4,
 "nbformat_minor": 2
}

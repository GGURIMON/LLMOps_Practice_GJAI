{
 "cells": [
  {
   "cell_type": "code",
   "execution_count": 1,
   "metadata": {},
   "outputs": [],
   "source": [
    "import getpass\n",
    "import os\n",
    "\n",
    "os.environ[\"LANGCHAIN_TRACING_V2\"] = \"true\"\n",
    "# os.environ[\"LANGCHAIN_API_KEY\"] = getpass.getpass()  # API 키 입력\n",
    "os.environ[\"LANGCHAIN_API_KEY\"] = \"...\"  # API 키 입력"
   ]
  },
  {
   "cell_type": "code",
   "execution_count": 2,
   "metadata": {},
   "outputs": [
    {
     "name": "stdout",
     "output_type": "stream",
     "text": [
      "content='안녕하세요!' additional_kwargs={'usage': {'prompt_tokens': 17, 'completion_tokens': 11, 'total_tokens': 28}, 'stop_reason': 'end_turn', 'model_id': 'anthropic.claude-3-5-sonnet-20240620-v1:0'} response_metadata={'usage': {'prompt_tokens': 17, 'completion_tokens': 11, 'total_tokens': 28}, 'stop_reason': 'end_turn', 'model_id': 'anthropic.claude-3-5-sonnet-20240620-v1:0'} id='run-7b4005a9-8030-4bc2-baa4-7d731c54f9ac-0' usage_metadata={'input_tokens': 17, 'output_tokens': 11, 'total_tokens': 28}\n"
     ]
    }
   ],
   "source": [
    "from langchain_aws import ChatBedrock  # Bedrock 모델 사용\n",
    "from langchain_core.messages import HumanMessage, SystemMessage\n",
    "\n",
    "# Bedrock 모델 설정\n",
    "model = ChatBedrock(\n",
    "    model_id=\"anthropic.claude-3-5-sonnet-20240620-v1:0\",\n",
    "    model_kwargs=dict(temperature=0),\n",
    "    region_name='us-east-1'\n",
    ")\n",
    "\n",
    "# 영어에서 이탈리아어로 번역하는 예시\n",
    "messages = [\n",
    "    SystemMessage(content=\"Translate the following from English into Korean\"),\n",
    "    HumanMessage(content=\"hi!\"),\n",
    "]\n",
    "\n",
    "result = model.invoke(messages)\n",
    "print(result)\n"
   ]
  },
  {
   "cell_type": "code",
   "execution_count": 5,
   "metadata": {},
   "outputs": [
    {
     "data": {
      "text/plain": [
       "AIMessage(content='저는 Anthropic에서 개발한 대화형 AI 어시스턴트인 Claude입니다. 다양한 주제에 대해 대화하고 질문에 답변하며 여러 가지 작업을 도와드릴 수 있습니다. 하지만 저는 인공지능일 뿐이며 감정이나 의식은 없습니다. 제가 어떤 도움을 드릴 수 있을까요?', additional_kwargs={'usage': {'prompt_tokens': 17, 'completion_tokens': 141, 'total_tokens': 158}, 'stop_reason': 'end_turn', 'model_id': 'anthropic.claude-3-5-sonnet-20240620-v1:0'}, response_metadata={'usage': {'prompt_tokens': 17, 'completion_tokens': 141, 'total_tokens': 158}, 'stop_reason': 'end_turn', 'model_id': 'anthropic.claude-3-5-sonnet-20240620-v1:0'}, id='run-14e3ff04-7dda-4837-8cb8-541a8bf62b6c-0', usage_metadata={'input_tokens': 17, 'output_tokens': 141, 'total_tokens': 158})"
      ]
     },
     "execution_count": 5,
     "metadata": {},
     "output_type": "execute_result"
    }
   ],
   "source": [
    "model.invoke(\"너는 어떤 AI니\")"
   ]
  },
  {
   "cell_type": "code",
   "execution_count": 11,
   "metadata": {},
   "outputs": [],
   "source": [
    "result = model.invoke(\"LLMOps에 대해서 소개해줘\")"
   ]
  },
  {
   "cell_type": "code",
   "execution_count": 7,
   "metadata": {},
   "outputs": [
    {
     "name": "stdout",
     "output_type": "stream",
     "text": [
      "저는 인공지능 시스템이기 때문에 사람처럼 감정을 느끼거나 경험할 수는 없습니다. 하지만 사람들의 감정에 대해 이해하고 공감하려고 노력합니다. 제가 할 수 있는 것은 대화를 통해 사용자의 감정 상태를 파악하고 그에 맞는 적절한 응답을 하는 것입니다.\n"
     ]
    }
   ],
   "source": [
    "from langchain_core.output_parsers import StrOutputParser\n",
    "\n",
    "# 출력 파서 설정\n",
    "parser = StrOutputParser()\n",
    "\n",
    "# 모델 결과를 파서로 처리\n",
    "parsed_result = parser.invoke(result)\n",
    "print(parsed_result)  # 출력: '안녕!'\n"
   ]
  },
  {
   "cell_type": "code",
   "execution_count": 8,
   "metadata": {},
   "outputs": [
    {
     "data": {
      "text/plain": [
       "ChatBedrock(client=<botocore.client.BedrockRuntime object at 0x136f72fe0>, region_name='us-east-1', model_id='anthropic.claude-3-5-sonnet-20240620-v1:0', model_kwargs={'temperature': 0})\n",
       "| StrOutputParser()"
      ]
     },
     "execution_count": 8,
     "metadata": {},
     "output_type": "execute_result"
    }
   ],
   "source": [
    "chain = model | parser\n",
    "chain"
   ]
  },
  {
   "cell_type": "code",
   "execution_count": 9,
   "metadata": {},
   "outputs": [
    {
     "name": "stdout",
     "output_type": "stream",
     "text": [
      "안녕하세요! (annyeonghaseyo!)\n",
      "\n",
      "This is a common Korean greeting that can be used in both formal and informal situations. It's equivalent to \"hello\" or \"hi\" in English.\n"
     ]
    }
   ],
   "source": [
    "# 파서와 모델을 결합한 체인 생성\n",
    "chain = model | parser\n",
    "\n",
    "# 체인 호출\n",
    "parsed_result = chain.invoke(messages)\n",
    "print(parsed_result)  # 출력: '안녕!'\n"
   ]
  },
  {
   "cell_type": "code",
   "execution_count": 12,
   "metadata": {},
   "outputs": [
    {
     "name": "stdout",
     "output_type": "stream",
     "text": [
      "[SystemMessage(content='Translate the following into korean:', additional_kwargs={}, response_metadata={}), HumanMessage(content='hi', additional_kwargs={}, response_metadata={})]\n"
     ]
    }
   ],
   "source": [
    "from langchain_core.prompts import ChatPromptTemplate\n",
    "\n",
    "# 시스템 메시지 템플릿 생성\n",
    "system_template = \"Translate the following into {language}:\"\n",
    "\n",
    "# 프롬프트 템플릿 정의\n",
    "prompt_template = ChatPromptTemplate.from_messages(\n",
    "    [(\"system\", system_template), (\"user\", \"{text}\")]\n",
    ")\n",
    "\n",
    "# 템플릿 호출\n",
    "prompt_result = prompt_template.invoke({\"language\": \"korean\", \"text\": \"hi\"})\n",
    "print(prompt_result.to_messages())"
   ]
  },
  {
   "cell_type": "code",
   "execution_count": 16,
   "metadata": {},
   "outputs": [
    {
     "name": "stdout",
     "output_type": "stream",
     "text": [
      "Ciao!\n"
     ]
    }
   ],
   "source": [
    "# 프롬프트, 모델, 파서를 결합한 체인 생성\n",
    "chain = prompt_template | model | parser\n",
    "\n",
    "# 체인 호출\n",
    "result = chain.invoke({\"language\": \"Italian\", \"text\": \"hi\"})\n",
    "print(result)  # 출력: 'ciao'\n"
   ]
  },
  {
   "cell_type": "code",
   "execution_count": null,
   "metadata": {},
   "outputs": [],
   "source": []
  }
 ],
 "metadata": {
  "kernelspec": {
   "display_name": ".venv",
   "language": "python",
   "name": "python3"
  },
  "language_info": {
   "codemirror_mode": {
    "name": "ipython",
    "version": 3
   },
   "file_extension": ".py",
   "mimetype": "text/x-python",
   "name": "python",
   "nbconvert_exporter": "python",
   "pygments_lexer": "ipython3",
   "version": "3.10.12"
  }
 },
 "nbformat": 4,
 "nbformat_minor": 2
}
